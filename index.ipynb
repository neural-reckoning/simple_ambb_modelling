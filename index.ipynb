{
 "cells": [
  {
   "cell_type": "markdown",
   "metadata": {},
   "source": [
    "# Canonical brain computations account for perceived sound source location\n",
    "\n",
    "**Jean-Hugues Lestang and Dan Goodman**\n",
    "\n",
    "This repository contains a series of notebooks that can be used to reproduce the results presented in the paper.\n",
    "\n",
    "## Single cell model:\n",
    "\n",
    "1. [Basic mechanisms](./single_cell_model/figure_basic_mechanisms.ipynb) \n",
    "2. [Parameter space](./single_cell_model/figure_parameter_space.ipynb)\n",
    "3. [Cell types](./single_cell_model/figure_cell_types.ipynb)\n",
    "4. [Carrier frequency analysis](./single_cell_model/figure_carrier_frequency.ipynb)\n",
    "5. [Single neuron predictions](./single_cell_model/figure_single_neuron_predictions.ipynb)\n",
    "6. [Interactive example single cell model](./single_cell_model/simple_model_explorer.ipynb)\n",
    "7. [Interactive example parameter maps](./single_cell_model/simple_model_maps.ipynb)\n",
    "8. [Analytical solution](./single_cell_model/figure_analytic_solutions.ipynb)\n",
    "\n",
    "## Population model:\n",
    "\n",
    "1. [Processing pipeline](./population_model/fig_proc_pop.ipynb)\n",
    "2. [Basic mechanism](./population_model/fig_scoring_patts_pop.ipynb)\n",
    "3. [Parameter space](./population_model/fig_param_space_pop/fig_param_space_pop.ipynb)\n",
    "4. [Carrier frequency analysis](./population_model/fig_carrier_pop)\n",
    "5. [Curve fitting analysis](./population_model/fig_curve_fitting_analysis_pop.ipynb)\n",
    "6. [Interactive example population model](./population_model/pop_model.ipynb)\n"
   ]
  }
 ],
 "metadata": {
  "kernelspec": {
   "display_name": "Python 2",
   "language": "python",
   "name": "python2"
  },
  "language_info": {
   "codemirror_mode": {
    "name": "ipython",
    "version": 2
   },
   "file_extension": ".py",
   "mimetype": "text/x-python",
   "name": "python",
   "nbconvert_exporter": "python",
   "pygments_lexer": "ipython2",
   "version": "2.7.15"
  }
 },
 "nbformat": 4,
 "nbformat_minor": 2
}
