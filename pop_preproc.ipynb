{
 "cells": [
  {
   "cell_type": "code",
   "execution_count": null,
   "metadata": {
    "collapsed": true
   },
   "outputs": [],
   "source": [
    "%matplotlib inline\n",
    "import warnings\n",
    "warnings.filterwarnings(\"ignore\")\n",
    "from brian2 import *\n",
    "from scipy.stats import circstd,circmean"
   ]
  },
  {
   "cell_type": "code",
   "execution_count": 1,
   "metadata": {
    "collapsed": true
   },
   "outputs": [],
   "source": [
    "def mean_over_phi_start(filename_res,carrier):\n",
    "    res=load(filename_res)\n",
    "    nbr_param_sets=res.size/res.shape[0]\n",
    "    res_flat=res.reshape((res.shape[0],nbr_param_sets,res.shape[6]))\n",
    "    res_flat_average=np.zeros((res.shape[0],nbr_param_sets))\n",
    "    sd_flat=np.zeros((res.shape[0],nbr_param_sets))\n",
    "    for i in xrange(nbr_param_sets):\n",
    "        if not np.all(res_flat[:,i,:]):\n",
    "            res_flat_average[:,i]=nan\n",
    "        else:\n",
    "            res_flat_average[:,i]=circmean(res_flat[:,i,:],high=360,axis=1)\n",
    "            sd_flat[:,i]=sqrt(circvar(res_flat[:,i,:],high=360,axis=1))\n",
    "    res_average=res_flat_average.reshape((res.shape[0],res.shape[1],res.shape[2],res.shape[3],res.shape[4],res.shape[5]))\n",
    "    sd=sd_flat.reshape((res.shape[0],res.shape[1],res.shape[2],res.shape[3],res.shape[4],res.shape[5]))\n",
    "    save('phase_'+str(carrier)+'.npy',res_average)\n",
    "    save('sd_'+str(carrier)+'.npy',sd_average)"
   ]
  },
  {
   "cell_type": "code",
   "execution_count": null,
   "metadata": {
    "collapsed": false
   },
   "outputs": [],
   "source": [
    "def max_error(filename_phase,carrier):\n",
    "    if carrier==200:\n",
    "        phase_data=np.array([180,180,180,180,180])\n",
    "    else:\n",
    "        phase_data=np.array([37, 40, 62, 83, 115])\n",
    "    phase=load(filename_phase)\n",
    "    nbr_param_sets=phase.size/phase.shape[0]\n",
    "    phase_flat=phase.reshape((phase.shape[0],nbr_param_sets))\n",
    "    \n",
    "    max_error_flat=np.zeros(nbr_param_sets)\n",
    "   \n",
    "    for i in xrange(nbr_param_sets) :\n",
    "        if sum(isnan(phase_flat[:,i]))!=0:\n",
    "            max_error_flat[i]=nan\n",
    "        else:\n",
    "            max_error_flat[i]=amax(abs(phase_flat[:,i]-phase_data))\n",
    "    max_error=max_error_flat.reshape((1,res.shape[1],res.shape[2],res.shape[3],res.shape[4],res.shape[5]))\n",
    "\n",
    "    save('max_error_'+str(carrier)+'.npy',max_error)"
   ]
  },
  {
   "cell_type": "code",
   "execution_count": null,
   "metadata": {
    "collapsed": false
   },
   "outputs": [],
   "source": [
    "def max_error_combined(ind_param,filename_max_err_500,filename_max_err_200,err_weight=1.0/3):\n",
    "    param_order=['tau_b','sigma_k','gamma','k','m','bipd']\n",
    "    num_freq=2\n",
    "    max_err_200=load(filename_max_err_200)\n",
    "    max_err_500=load(filename_max_err_500)\n",
    "    num_param=5\n",
    "    \n",
    "    if ind_param==5: # Case BIPD\n",
    "        max_err_carrier_comb_all=np.zeros((max_err_500.shape[1],max_err_500.shape[2],\n",
    "                                           max_err_500.shape[3],max_err_500.shape[4],max_err_500.shape[5]))   \n",
    "        cp=0\n",
    "        for i in xrange(max_err_500.shape[1]):\n",
    "            for j in xrange(max_err_500.shape[2]):\n",
    "                for k in xrange(max_err_500.shape[3]):\n",
    "                    for l in xrange(max_err_500.shape[4]):\n",
    "                        for m in xrange(max_err_500.shape[5]):\n",
    "                            if isnan(max_err_200[0,i,j,k,l,m]) or isnan(max_err_500[0,i,j,k,l,m]):\n",
    "                                max_err_carrier_comb_all[i,j,k,l,m]=nan\n",
    "                                cp+=1\n",
    "                            else:\n",
    "                                max_err_carrier_comb_all[i,j,k,l,m]=amax([max_err_500[0,i,j,k,l,m],\n",
    "                                                                          max_err_200[0,i,j,k,l,m]*1.0*err_weight])\n",
    "    else: #other cases\n",
    "\n",
    "        def indices_combined(ind_param,size):\n",
    "            inds=np.zeros(size)\n",
    "            for k in xrange(size):\n",
    "                if k==ind_param:\n",
    "                    inds[k]=k+1\n",
    "                    inds[k+1]=k+1\n",
    "                elif k>ind_param+1:\n",
    "                    inds[k]=k\n",
    "                elif k<ind_param:\n",
    "                    inds[k]=k+1\n",
    "            return tuple(inds)\n",
    "\n",
    "        def indices_single(ind_param,size,ite):\n",
    "            inds_200=[0]*(size)\n",
    "            inds_500=[0]*(size)\n",
    "            for p in xrange(size):\n",
    "                if p==ind_param:\n",
    "                    inds_200[p]=ite[p+1]\n",
    "                    inds_500[p]=ite[p]\n",
    "                elif p>ind_param:\n",
    "                    inds_200[p]=ite[p+1]\n",
    "                    inds_500[p]=ite[p+1]\n",
    "                elif p<ind_param:\n",
    "                    inds_200[p]=ite[p]\n",
    "                    inds_500[p]=ite[p]\n",
    "            inds_200=[0]+inds_200\n",
    "            inds_500=[0]+inds_500\n",
    "            return tuple(inds_200),tuple(inds_500)\n",
    "\n",
    "        inds=indices_combined(ind_param,num_param+1)\n",
    "        max_err_carrier_comb_all=np.zeros((max_err_500.shape[int(inds[0])],max_err_500.shape[int(inds[1])],max_err_500.shape[int(inds[2])],\n",
    "                                           max_err_500.shape[int(inds[3])],max_err_500.shape[int(inds[4])],max_err_500.shape[int(inds[5])]))\n",
    "        cp=0\n",
    "\n",
    "        for i in xrange(max_err_500.shape[int(inds[0])]):\n",
    "            for j in xrange(max_err_500.shape[int(inds[1])]):\n",
    "                for k in xrange(max_err_500.shape[int(inds[2])]):\n",
    "                    for l in xrange(max_err_500.shape[int(inds[3])]):\n",
    "                        for m in xrange(max_err_500.shape[int(inds[4])]):\n",
    "                            for n in xrange(max_err_200.shape[int(inds[5])]):\n",
    "                                inds_200,inds_500=indices_single(ind_param,num_param,[i,j,k,l,m,n])\n",
    "                                if isnan(max_err_200[inds_200]) or isnan(max_err_500[inds_500]):\n",
    "\n",
    "                                    max_err_carrier_comb_all[i,j,k,l,m,n]=nan\n",
    "                                    cp+=1\n",
    "                                else:\n",
    "                                    max_err_carrier_comb_all[i,j,k,l,m,n]=amax([max_err_500[inds_500],max_err_200[inds_200]*1.0*err_weight])\n",
    "\n",
    "\n",
    "    save('max_error_combined_'+str(param_order[ind_param])+'.npy',max_err_carrier_comb_all) \n",
    "    save('nan_counter_'+str(param_order[ind_param])+'.npy',cp)\n"
   ]
  }
 ],
 "metadata": {
  "kernelspec": {
   "display_name": "Python 2",
   "language": "python",
   "name": "python2"
  },
  "language_info": {
   "codemirror_mode": {
    "name": "ipython",
    "version": 2
   },
   "file_extension": ".py",
   "mimetype": "text/x-python",
   "name": "python",
   "nbconvert_exporter": "python",
   "pygments_lexer": "ipython2",
   "version": "2.7.12"
  }
 },
 "nbformat": 4,
 "nbformat_minor": 2
}
