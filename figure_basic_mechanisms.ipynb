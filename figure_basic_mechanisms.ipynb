{
 "cells": [
  {
   "cell_type": "markdown",
   "metadata": {},
   "source": [
    "# Figure: Basic mechanisms"
   ]
  },
  {
   "cell_type": "code",
   "execution_count": null,
   "metadata": {},
   "outputs": [],
   "source": [
    "%matplotlib notebook\n",
    "from brian2 import *\n",
    "from model_explorer_jupyter import *\n",
    "import ipywidgets as ipw\n",
    "from collections import OrderedDict\n",
    "from matplotlib import cm\n",
    "import joblib\n",
    "\n",
    "BrianLogger.suppress_name('resolution_conflict')\n",
    "\n",
    "def normed(X, *args):\n",
    "    m = max(amax(abs(Y)) for Y in (X,)+args)\n",
    "    return X/m\n",
    "\n",
    "mem = joblib.Memory(location='.', bytes_limit=10*1024**3, verbose=0) # 10 GB max cache"
   ]
  },
  {
   "cell_type": "markdown",
   "metadata": {},
   "source": [
    "Raw data from Dietz et al. 2013"
   ]
  },
  {
   "cell_type": "code",
   "execution_count": null,
   "metadata": {},
   "outputs": [],
   "source": [
    "dietz_fm = array([4, 8, 16, 32, 64])*Hz\n",
    "dietz_phase = array([37, 40, 62, 83, 115])*pi/180\n",
    "dietz_phase_std = array([46, 29, 29, 31, 37])*pi/180"
   ]
  },
  {
   "cell_type": "markdown",
   "metadata": {},
   "source": [
    "Simple model definition, all details."
   ]
  },
  {
   "cell_type": "code",
   "execution_count": null,
   "metadata": {},
   "outputs": [],
   "source": [
    "@mem.cache\n",
    "def simple_model(**params):\n",
    "    N = len(dietz_fm)\n",
    "    min_tauihc = 0.1*ms\n",
    "    eqs = '''\n",
    "    carrier = clip(cos(2*pi*fc*t), 0, Inf) : 1\n",
    "    A_raw = (carrier*gain*0.5*(1-cos(2*pi*fm*t)))**gamma : 1\n",
    "    dA_filt/dt = (A_raw-A)/(int(tauihc<min_tauihc)*1*second+tauihc) : 1\n",
    "    A = A_raw*int(tauihc<min_tauihc)+A_filt*int(tauihc>=min_tauihc) : 1\n",
    "    dQ/dt = -k*Q*A+R*(1-Q) : 1\n",
    "    AQ = A*Q : 1\n",
    "    dAe/dt = (AQ-Ae)/taue : 1\n",
    "    dAi/dt = (AQ-Ai)/taui : 1\n",
    "    out = clip(Ae-beta*Ai, 0, Inf) : 1\n",
    "    gain = 10**(level/20.) : 1\n",
    "    R = (1-alpha)/taua : Hz\n",
    "    k = alpha/taua : Hz\n",
    "    fc = fc_Hz*Hz : Hz\n",
    "    fc_Hz : 1\n",
    "    fm : Hz\n",
    "    tauihc = tauihc_ms*ms : second\n",
    "    taue = taue_ms*ms : second\n",
    "    taui = taui_ms*ms : second\n",
    "    taua = taua_ms*ms : second\n",
    "    tauihc_ms : 1\n",
    "    taue_ms : 1\n",
    "    taui_ms : 1\n",
    "    taua_ms : 1\n",
    "    alpha : 1\n",
    "    beta : 1\n",
    "    gamma : 1\n",
    "    level : 1\n",
    "    '''\n",
    "    G = NeuronGroup(N, eqs, method='euler', dt=0.1*ms)\n",
    "    G.set_states(params)\n",
    "    G.tauihc_ms['tauihc_ms<min_tauihc/ms'] = 0\n",
    "    G.Q = 1\n",
    "    M = StateMonitor(G, 'out', record=True)\n",
    "    net = Network(G)\n",
    "    net.run(.25*second)\n",
    "    net.add(M)\n",
    "    net.run(.25*second)\n",
    "    return M.t[:], M.out[:]"
   ]
  },
  {
   "cell_type": "markdown",
   "metadata": {},
   "source": [
    "First row: pure differentiation"
   ]
  },
  {
   "cell_type": "code",
   "execution_count": null,
   "metadata": {},
   "outputs": [],
   "source": [
    "def pure_differentiation(only_this=False):\n",
    "    h = 1 if only_this else 4\n",
    "    if only_this:\n",
    "        figure(dpi=75, figsize=(10, 3.5))\n",
    "    extracted_phase = []\n",
    "    for i, fm in enumerate(dietz_fm):\n",
    "        t = linspace(0*ms, 1/fm, 100)\n",
    "        phase = linspace(0, 2*pi, 100)\n",
    "        env = 0.5*(1-cos(2*pi*fm*t))\n",
    "        diff_env = fm*pi*sin(2*pi*fm*t)\n",
    "        clipped_diff_env = clip(diff_env, 0*Hz, Inf*Hz)\n",
    "        extracted_phase.append(phase[argmax(clipped_diff_env)])\n",
    "        if i>0 and i<len(dietz_fm)-1:\n",
    "            continue\n",
    "        if i==0:\n",
    "            subplot(h, 3, 1)\n",
    "            title('Low frequency (4 Hz)\\n\\n')\n",
    "        else:\n",
    "            subplot(h, 3, 2)\n",
    "            title('High frequency (64 Hz)\\n\\n')\n",
    "        fill_between(phase*180/pi, 0, env, color=(0.9,)*3, zorder=-2)\n",
    "        ylim(0, 1.1)\n",
    "        if only_this:\n",
    "            xlabel('Phase (deg)')\n",
    "        if i==0:\n",
    "            ylabel('Differentiation\\n', fontsize=14)\n",
    "        xlim(0, 360)\n",
    "        ax = gca().twiny()\n",
    "        plot(t/ms, normed(clipped_diff_env), '-k', lw=2)\n",
    "        xlabel('Time (ms)')\n",
    "        xlim(0, 1/fm/ms)\n",
    "        ylim(0, 1.1)\n",
    "    subplot(h, 3, 3)\n",
    "    extracted_phase = array(extracted_phase)\n",
    "    errorbar(dietz_fm/Hz, dietz_phase*180/pi, yerr=dietz_phase_std*180/pi, fmt='--or', label='Data')\n",
    "    plot(dietz_fm/Hz, extracted_phase*180/pi, '-ok', lw=2, label='Model')\n",
    "    legend(loc='upper left')\n",
    "    ylim(0, 180)\n",
    "    xlim(0, 70)\n",
    "    xticks(dietz_fm/Hz)\n",
    "    if only_this:\n",
    "        xlabel('Modulation frequency (Hz)')\n",
    "    ylabel('Extracted phase (deg)')\n",
    "    title('All frequencies\\n\\n')\n",
    "    tight_layout()\n",
    "\n",
    "pure_differentiation(True)"
   ]
  },
  {
   "cell_type": "markdown",
   "metadata": {},
   "source": [
    "Second to fourth row: use model"
   ]
  },
  {
   "cell_type": "code",
   "execution_count": null,
   "metadata": {},
   "outputs": [],
   "source": [
    "def with_model(name, row, only_this=False, **params):\n",
    "    h = 1 if only_this else 4\n",
    "    if only_this:\n",
    "        figure(dpi=75, figsize=(10, 3.5))\n",
    "        row = 1\n",
    "    params['fm'] = dietz_fm\n",
    "    t, out = simple_model(**params)\n",
    "    out = reshape(out, (len(dietz_fm), len(t)))\n",
    "    n = array(around(0.25*second*dietz_fm), dtype=int)\n",
    "    idx = t[newaxis, :]<(n/dietz_fm)[:, newaxis]\n",
    "    out[idx] = 0\n",
    "    peak = t[argmax(out, axis=1)]\n",
    "    extracted_phase = (peak*2*pi*dietz_fm) % (2*pi)\n",
    "    for i, j in enumerate([0, -1]):\n",
    "        fm = dietz_fm[j]\n",
    "        cur_n = n[j]\n",
    "        idx = logical_and(t>=(cur_n/fm), t<=((cur_n+1)/fm))\n",
    "        cur_t = t[idx]\n",
    "        phase = (2*pi*fm*cur_t)%(2*pi)\n",
    "        env = 0.5*(1-cos(phase))\n",
    "        if i==0:\n",
    "            subplot(h, 3, (row-1)*3+1)\n",
    "            if only_this:\n",
    "                title('Low frequency (4 Hz)\\n\\n')\n",
    "        else:\n",
    "            subplot(h, 3, (row-1)*3+2)\n",
    "            if only_this:\n",
    "                title('High frequency (64 Hz)\\n\\n')\n",
    "        if i==0:\n",
    "            ylabel(name+'\\n', fontsize=14)\n",
    "        fill_between(phase*180/pi, 0, env, color=(0.9,)*3, zorder=-2)\n",
    "        ylim(0, 1.1)\n",
    "        if only_this or row==4:\n",
    "            xlabel('Phase (deg)')\n",
    "        xlim(0, 360)\n",
    "        ax = gca().twiny()\n",
    "        plot((cur_t-amin(cur_t))/ms, normed(out[j, idx]), '-k', lw=2)\n",
    "        if only_this:\n",
    "            xlabel('Time (ms)')\n",
    "        xlim(0, 1/fm/ms)\n",
    "        ylim(0, 1.1)\n",
    "    subplot(h, 3, (row-1)*3+3)\n",
    "    errorbar(dietz_fm/Hz, dietz_phase*180/pi, yerr=dietz_phase_std*180/pi, fmt='--or', label='Data')\n",
    "    plot(dietz_fm/Hz, extracted_phase*180/pi, '-ok', lw=2, label='Model')\n",
    "    if only_this:\n",
    "        legend(loc='upper left')\n",
    "    ylim(0, 180)\n",
    "    xlim(0, 70)\n",
    "    xticks(dietz_fm/Hz)\n",
    "    if only_this:\n",
    "        xlabel('Modulation frequency (Hz)')\n",
    "    ylabel('Extracted phase (deg)')\n",
    "    tight_layout()\n",
    "\n",
    "# Inhibition only\n",
    "# with_model(\"Inhibition\", 1, True,\n",
    "#            taui_ms=1.56, fc_Hz=0.00, level=0.00, tauihc_ms=0.00,\n",
    "#            taua_ms=6.69, beta=1.06, alpha=0.00, taue_ms=0.63, gamma=1.00)\n",
    "# Adaptation only\n",
    "# with_model(\"Adaptation\", 1, True,\n",
    "#            taui_ms=8.23, fc_Hz=0.00, level=0.00, tauihc_ms=0.00,\n",
    "#            taua_ms=0.79, beta=0.00, alpha=0.99, taue_ms=1.77, gamma=1.00)\n",
    "# Complex model\n",
    "with_model(\"Complex model\", 1, True,\n",
    "           taui_ms=7.51, fc_Hz=0.00, level=18.73, tauihc_ms=0.00,\n",
    "           taua_ms=3.78, beta=0.41, alpha=0.72, taue_ms=1.38, gamma=0.84)"
   ]
  },
  {
   "cell_type": "markdown",
   "metadata": {},
   "source": [
    "Full figure:"
   ]
  },
  {
   "cell_type": "code",
   "execution_count": null,
   "metadata": {},
   "outputs": [],
   "source": [
    "figure(dpi=75, figsize=(10, 10))\n",
    "pure_differentiation()\n",
    "# Inhibition only\n",
    "with_model(\"Inhibition\", 2, False,\n",
    "           taui_ms=1.56, fc_Hz=0.00, level=0.00, tauihc_ms=0.00,\n",
    "           taua_ms=6.69, beta=1.06, alpha=0.00, taue_ms=0.63, gamma=1.00)\n",
    "# Adaptation only\n",
    "with_model(\"Adaptation\", 3, False,\n",
    "           taui_ms=8.23, fc_Hz=0.00, level=0.00, tauihc_ms=0.00,\n",
    "           taua_ms=0.79, beta=0.00, alpha=0.99, taue_ms=1.77, gamma=1.00)\n",
    "# Complex model\n",
    "with_model(\"Complex model\", 4, False,\n",
    "           taui_ms=7.51, fc_Hz=0.00, level=18.73, tauihc_ms=0.00,\n",
    "           taua_ms=3.78, beta=0.41, alpha=0.72, taue_ms=1.38, gamma=0.84)\n",
    "savefig('figure_basic_mechanism.pdf')"
   ]
  }
 ],
 "metadata": {
  "hide_input": false,
  "kernelspec": {
   "display_name": "Python 2",
   "language": "python",
   "name": "python2"
  },
  "language_info": {
   "codemirror_mode": {
    "name": "ipython",
    "version": 2
   },
   "file_extension": ".py",
   "mimetype": "text/x-python",
   "name": "python",
   "nbconvert_exporter": "python",
   "pygments_lexer": "ipython2",
   "version": "2.7.15"
  }
 },
 "nbformat": 4,
 "nbformat_minor": 2
}
