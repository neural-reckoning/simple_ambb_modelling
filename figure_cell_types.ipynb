{
 "cells": [
  {
   "cell_type": "markdown",
   "metadata": {},
   "source": [
    "# Cell types figure (unfinished)"
   ]
  },
  {
   "cell_type": "code",
   "execution_count": null,
   "metadata": {},
   "outputs": [],
   "source": [
    "%matplotlib notebook\n",
    "from simple_model import *\n",
    "from brian2 import *\n",
    "from model_explorer_jupyter import *\n",
    "import ipywidgets as ipw\n",
    "from collections import OrderedDict\n",
    "from scipy.interpolate import interp1d\n",
    "from matplotlib import cm\n",
    "from matplotlib.gridspec import GridSpecFromSubplotSpec\n",
    "import joblib\n",
    "from scipy.ndimage.interpolation import zoom\n",
    "from scipy.ndimage.filters import gaussian_filter\n",
    "\n",
    "def normed(X, *args):\n",
    "    m = max(amax(abs(Y)) for Y in (X,)+args)\n",
    "    return X/m"
   ]
  },
  {
   "cell_type": "markdown",
   "metadata": {},
   "source": [
    "Error functions"
   ]
  },
  {
   "cell_type": "code",
   "execution_count": null,
   "metadata": {},
   "outputs": [],
   "source": [
    "def rmse(x, y, axis=1):\n",
    "    return sqrt(mean((x-y)**2, axis=axis))\n",
    "\n",
    "def maxnorm(x, y, axis=1):\n",
    "    return amax(abs(x-y), axis=axis)\n",
    "\n",
    "error_functions = {\n",
    "    'RMS error': rmse,\n",
    "    'Max error': maxnorm,\n",
    "    }"
   ]
  },
  {
   "cell_type": "markdown",
   "metadata": {},
   "source": [
    "Parameter names"
   ]
  },
  {
   "cell_type": "code",
   "execution_count": null,
   "metadata": {},
   "outputs": [],
   "source": [
    "latex_parameter_names = dict(\n",
    "    taue_ms=r\"$\\tau_e$ (ms)\",\n",
    "    taui_ms=r\"$\\tau_i$ (ms)\",\n",
    "    taua_ms=r\"$\\tau_a$ (ms)\",\n",
    "    alpha=r\"$\\alpha$\",\n",
    "    beta=r\"$\\beta$\",\n",
    "    gamma=r\"$\\gamma$\",\n",
    "    level=r\"$L$ (dB)\",\n",
    "    )"
   ]
  },
  {
   "cell_type": "markdown",
   "metadata": {},
   "source": [
    "..."
   ]
  },
  {
   "cell_type": "code",
   "execution_count": null,
   "metadata": {},
   "outputs": [],
   "source": [
    "N = 10000\n",
    "error_func = maxnorm\n",
    "params = OrderedDict([\n",
    "    ('taui_ms', (0.1, 10)),\n",
    "    ('taue_ms', (0.1, 10)),\n",
    "    ('taua_ms', (0.1, 10)),\n",
    "    ('level', (-25, 25)),\n",
    "    ('alpha', (0, 0.99)),\n",
    "    ('beta', (0, 2)),\n",
    "    ('gamma', (0.1, 1)),\n",
    "    ])\n",
    "epsilon = 0.6\n",
    "\n",
    "raw_res = simple_model(N, params, update_progress='text')\n",
    "res = simple_model_results(N, raw_res, error_func, weighted=False, interpolate_bmf=True)\n",
    "keep_index = res.mse<30*pi/180\n",
    "all_values = raw_res.params.copy()\n",
    "all_values.update(dict(('bmf/'+k, v) for k, v in res.bmf.items()))\n",
    "all_values.update(dict(('moddepth/'+k, v) for k, v in res.moddepth.items()))\n",
    "all_values['mean_vs'] = mean(res.raw_measures['vs'], axis=1)\n",
    "all_values['mean_onsettiness'] = mean(res.raw_measures['onsettiness'], axis=1)\n",
    "if 0:\n",
    "    num_rows = int(ceil(len(all_values)/5.0))\n",
    "    figure(figsize=(10, 2*num_rows))\n",
    "    for i, (k, v) in enumerate(all_values.items()):\n",
    "        subplot(num_rows, 5, i+1)\n",
    "        hist(v[keep_index])\n",
    "        title(k)\n",
    "    tight_layout()\n",
    "# create keep values\n",
    "keep_values = OrderedDict()\n",
    "for k, v in all_values.items():\n",
    "    keep_values[k] = v[keep_index]\n",
    "# create histogram-normalised values\n",
    "norm_values = OrderedDict()\n",
    "for k, v in keep_values.items():\n",
    "    i = argsort(v)\n",
    "    j = zeros_like(i)\n",
    "    j[i] = arange(len(v))\n",
    "    norm_values[k] = j*1.0/(len(v)-1)\n",
    "# find representative examples\n",
    "Y = vstack(keep_values.values()).T # num_points, num_components\n",
    "X = vstack(norm_values.values()).T # num_points, num_components\n",
    "original_indices = arange(X.shape[0])\n",
    "representative_values = []\n",
    "counts = []\n",
    "while original_indices.size:\n",
    "    # compute distance matrix\n",
    "    D = amax(abs(X[:, newaxis, :]-X[newaxis, :, :]), axis=2)\n",
    "    C = sum(D<epsilon, axis=1)\n",
    "    i = argmax(C) # most representative point\n",
    "    representative_values.append(Y[original_indices[i], :])\n",
    "    k = D[:, i]>=epsilon\n",
    "    original_indices = original_indices[k]\n",
    "    X = X[k, :]\n",
    "    counts.append(C[i])\n",
    "representative_values = array(representative_values)\n",
    "counts = array(counts)\n",
    "print 'Num rep values', representative_values.shape[0]\n",
    "print 'Representation level:', around(100.*counts/sum(counts), 1)\n",
    "print 'Representation of first 10:', round(sum(counts[:10])*100.0/sum(counts), 1)\n",
    "num_repval_to_show = min(representative_values.shape[0], 10)\n",
    "nc = 6\n",
    "figure(dpi=75, figsize=(nc*2, 1.5*num_repval_to_show))\n",
    "for repval in range(num_repval_to_show):\n",
    "    cur_params = {}\n",
    "    for i, k in enumerate(params.keys()):\n",
    "        cur_params[k] = representative_values[repval, i]\n",
    "    cur_raw_res = simple_model(1, cur_params)\n",
    "    cur_res = simple_model_results(1, cur_raw_res, error_func, weighted=False, interpolate_bmf=True)\n",
    "    ax = subplot(num_repval_to_show, nc, nc*repval+1)\n",
    "    ax.set_frame_on(False)\n",
    "    xticks([])\n",
    "    yticks([])\n",
    "    tab_items = [(k, '%.2f' % v) for k, v in cur_params.items()]\n",
    "    #tab_items = [('Representation (%)', around(100.*counts[repval]/sum(counts), 1))]+tab_items\n",
    "    table(loc='center', cellLoc='center', cellText=tab_items)\n",
    "    ylabel('%.2f%%' % (100.*counts[repval]/sum(counts)))\n",
    "    for i, (ylab, v) in enumerate([('Extracted phase (deg)', cur_res.peak_phase.T*180/pi),\n",
    "                                   ('rMTF (peak)', cur_res.norm_measures['peak'].T),\n",
    "                                   ('rMTF (mean)', cur_res.norm_measures['mean'].T),\n",
    "                                   ('tMTF (vs)', cur_res.norm_measures['vs'].T),\n",
    "                                   ('Onsettiness', cur_res.norm_measures['onsettiness'].T),\n",
    "                                   ]):\n",
    "        subplot(num_repval_to_show, nc, nc*repval+2+i)\n",
    "        plot(dietz_fm, v, '-o', label='Model')\n",
    "        if i==0:\n",
    "            errorbar(dietz_fm/Hz, dietz_phase*180/pi, yerr=dietz_phase_std*180/pi, fmt='--r', label='Data')\n",
    "            grid()\n",
    "            ylim(0, 180)\n",
    "        else:\n",
    "            ylim(0, 1)\n",
    "        if repval==num_repval_to_show-1:\n",
    "            xlabel('Modulation frequency (Hz)')\n",
    "        if repval==0:\n",
    "            title(ylab)\n",
    "    \n",
    "tight_layout()"
   ]
  }
 ],
 "metadata": {
  "hide_input": false,
  "jupytext_formats": "ipynb,py:light",
  "kernelspec": {
   "display_name": "Python 2",
   "language": "python",
   "name": "python2"
  },
  "language_info": {
   "codemirror_mode": {
    "name": "ipython",
    "version": 2
   },
   "file_extension": ".py",
   "mimetype": "text/x-python",
   "name": "python",
   "nbconvert_exporter": "python",
   "pygments_lexer": "ipython2",
   "version": "2.7.15"
  }
 },
 "nbformat": 4,
 "nbformat_minor": 2
}
