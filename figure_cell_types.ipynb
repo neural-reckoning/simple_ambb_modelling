{
 "cells": [
  {
   "cell_type": "markdown",
   "metadata": {},
   "source": [
    "# Cell types figure (unfinished)"
   ]
  },
  {
   "cell_type": "code",
   "execution_count": null,
   "metadata": {},
   "outputs": [],
   "source": [
    "%matplotlib notebook\n",
    "from brian2 import *\n",
    "from model_explorer_jupyter import *\n",
    "import ipywidgets as ipw\n",
    "from collections import OrderedDict\n",
    "from scipy.interpolate import interp1d\n",
    "from matplotlib import cm\n",
    "from matplotlib.gridspec import GridSpecFromSubplotSpec\n",
    "import joblib\n",
    "from scipy.ndimage.interpolation import zoom\n",
    "from scipy.ndimage.filters import gaussian_filter\n",
    "\n",
    "BrianLogger.suppress_name('resolution_conflict')\n",
    "\n",
    "def normed(X, *args):\n",
    "    m = max(amax(abs(Y)) for Y in (X,)+args)\n",
    "    return X/m\n",
    "\n",
    "mem = joblib.Memory(location='.', bytes_limit=10*1024**3, verbose=0) # 10 GB max cache"
   ]
  },
  {
   "cell_type": "markdown",
   "metadata": {},
   "source": [
    "Raw data we want to model"
   ]
  },
  {
   "cell_type": "code",
   "execution_count": null,
   "metadata": {},
   "outputs": [],
   "source": [
    "dietz_fm = array([4, 8, 16, 32, 64])*Hz\n",
    "dietz_phase = array([37, 40, 62, 83, 115])*pi/180\n",
    "dietz_phase_std = array([46, 29, 29, 31, 37])*pi/180"
   ]
  },
  {
   "cell_type": "markdown",
   "metadata": {},
   "source": [
    "Basic model definitions"
   ]
  },
  {
   "cell_type": "code",
   "execution_count": null,
   "metadata": {},
   "outputs": [],
   "source": [
    "@mem.cache\n",
    "def simple_model(N, params):\n",
    "    min_tauihc = 0.1*ms\n",
    "    eqs = '''\n",
    "    carrier = clip(cos(2*pi*fc*t), 0, Inf) : 1\n",
    "    A_raw = (carrier*gain*0.5*(1-cos(2*pi*fm*t)))**gamma : 1\n",
    "    dA_filt/dt = (A_raw-A)/(int(tauihc<min_tauihc)*1*second+tauihc) : 1\n",
    "    A = A_raw*int(tauihc<min_tauihc)+A_filt*int(tauihc>=min_tauihc) : 1\n",
    "    dQ/dt = -k*Q*A+R*(1-Q) : 1\n",
    "    AQ = A*Q : 1\n",
    "    dAe/dt = (AQ-Ae)/taue : 1\n",
    "    dAi/dt = (AQ-Ai)/taui : 1\n",
    "    out = clip(Ae-beta*Ai, 0, Inf) : 1\n",
    "    gain = 10**(level/20.) : 1\n",
    "    R = (1-alpha)/taua : Hz\n",
    "    k = alpha/taua : Hz\n",
    "    fc = fc_Hz*Hz : Hz\n",
    "    fc_Hz : 1\n",
    "    fm : Hz\n",
    "    tauihc = tauihc_ms*ms : second\n",
    "    taue = taue_ms*ms : second\n",
    "    taui = taui_ms*ms : second\n",
    "    taua = taua_ms*ms : second\n",
    "    tauihc_ms : 1\n",
    "    taue_ms : 1\n",
    "    taui_ms : 1\n",
    "    taua_ms : 1\n",
    "    alpha : 1\n",
    "    beta : 1\n",
    "    gamma : 1\n",
    "    level : 1\n",
    "    '''\n",
    "    G = NeuronGroup(N, eqs, method='euler', dt=0.1*ms)\n",
    "    G.set_states(params)\n",
    "    G.tauihc_ms['tauihc_ms<min_tauihc/ms'] = 0\n",
    "    G.Q = 1\n",
    "    M = StateMonitor(G, 'out', record=True)\n",
    "    net = Network(G)\n",
    "    net.run(.25*second)\n",
    "    net.add(M)\n",
    "    net.run(.25*second)\n",
    "    return M.t[:], M.out[:]\n",
    "\n",
    "def extract_peak_phase(N, t, out, error_func, weighted, interpolate_bmf=False):\n",
    "    out = reshape(out, (N, len(dietz_fm), len(t)))\n",
    "    fm = dietz_fm\n",
    "    n = array(around(0.25*second*fm), dtype=int)\n",
    "    idx = (t[newaxis, newaxis, :]<(n/fm)[newaxis, :, newaxis])+zeros(out.shape, dtype=bool)\n",
    "    out[idx] = 0\n",
    "    if weighted:\n",
    "        phase = (2*pi*fm[newaxis, :, newaxis]*t[newaxis, newaxis, :]) % (2*pi)\n",
    "        peak_phase = (angle(sum(out*exp(1j*phase), axis=2))+2*pi)%(2*pi)\n",
    "    else:\n",
    "        peak = t[argmax(out, axis=2)] # shape (N, n_fm)\n",
    "        peak_phase = (peak*2*pi*fm[newaxis, :]) % (2*pi) # shape (N, n_fm)\n",
    "    peak_fr = amax(out, axis=2) # shape (N, n_fm)\n",
    "    norm_peak_fr = peak_fr/amax(peak_fr, axis=1)[:, newaxis]\n",
    "    mse = error_func(dietz_phase[newaxis, :], peak_phase) # sum over fm, mse has shape N\n",
    "    mse_norm = (mse-amin(mse))/(amax(mse)-amin(mse))\n",
    "    bmf = asarray(dietz_fm)[argmax(norm_peak_fr, axis=1)]\n",
    "    moddepth = 1-amin(norm_peak_fr, axis=1)\n",
    "    # interpolated bmf\n",
    "    if interpolate_bmf:\n",
    "        fm_interp = linspace(4, 64, 100)\n",
    "        for cx in xrange(N):\n",
    "            cur_fr = norm_peak_fr[cx, :]\n",
    "            fr_interp_func = interp1d(dietz_fm, cur_fr, kind='quadratic')\n",
    "            bmf[cx] = fm_interp[argmax(fr_interp_func(fm_interp))]\n",
    "    return peak_phase, peak_fr, norm_peak_fr, mse, mse_norm, bmf, moddepth"
   ]
  },
  {
   "cell_type": "markdown",
   "metadata": {},
   "source": [
    "Error functions"
   ]
  },
  {
   "cell_type": "code",
   "execution_count": null,
   "metadata": {},
   "outputs": [],
   "source": [
    "def rmse(x, y, axis=1):\n",
    "    return sqrt(mean((x-y)**2, axis=axis))\n",
    "\n",
    "def maxnorm(x, y, axis=1):\n",
    "    return amax(abs(x-y), axis=axis)\n",
    "\n",
    "error_functions = {\n",
    "    'RMS error': rmse,\n",
    "    'Max error': maxnorm,\n",
    "    }"
   ]
  },
  {
   "cell_type": "markdown",
   "metadata": {},
   "source": [
    "Parameter names"
   ]
  },
  {
   "cell_type": "code",
   "execution_count": null,
   "metadata": {},
   "outputs": [],
   "source": [
    "latex_parameter_names = dict(\n",
    "    taue_ms=r\"$\\tau_e$ (ms)\",\n",
    "    taui_ms=r\"$\\tau_i$ (ms)\",\n",
    "    taua_ms=r\"$\\tau_a$ (ms)\",\n",
    "    alpha=r\"$\\alpha$\",\n",
    "    beta=r\"$\\beta$\",\n",
    "    gamma=r\"$\\gamma$\",\n",
    "    level=r\"$L$ (dB)\",\n",
    "    )"
   ]
  }
 ],
 "metadata": {
  "hide_input": false,
  "kernelspec": {
   "display_name": "Python 2",
   "language": "python",
   "name": "python2"
  },
  "language_info": {
   "codemirror_mode": {
    "name": "ipython",
    "version": 2
   },
   "file_extension": ".py",
   "mimetype": "text/x-python",
   "name": "python",
   "nbconvert_exporter": "python",
   "pygments_lexer": "ipython2",
   "version": "2.7.15"
  }
 },
 "nbformat": 4,
 "nbformat_minor": 2
}
