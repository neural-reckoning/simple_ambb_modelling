{
 "cells": [
  {
   "cell_type": "code",
   "execution_count": 1,
   "metadata": {},
   "outputs": [],
   "source": [
    "%matplotlib inline\n",
    "import warnings\n",
    "warnings.filterwarnings(\"ignore\")\n",
    "from brian2 import *\n",
    "from simple_model import *\n",
    "from scipy.optimize import curve_fit"
   ]
  },
  {
   "cell_type": "code",
   "execution_count": null,
   "metadata": {},
   "outputs": [],
   "source": [
    "# Optimisation of analytic solution of onset only model\n",
    "def onsetphi(fm, beta, taue, taui):\n",
    "    sigmae = 2*pi*fm*taue\n",
    "    sigmai = 2*pi*fm*taui\n",
    "    return arctan2(beta*sigmai+beta*sigmae**2*sigmai-sigmae*(1+sigmai**2),\n",
    "                   beta-1+beta*sigmae**2-sigmai**2)\n",
    "f = lambda fm, beta, taue, taui: onsetphi(fm*Hz, beta, taue*ms, taui*ms) # exact\n",
    "popt, _ = curve_fit(f, dietz_fm, dietz_phase,\n",
    "                       p0=(1.2, 0.1, 2.0),\n",
    "                       bounds=([0, 0, 0], [inf, inf, inf]),\n",
    "                      )\n",
    "print(popt)\n",
    "f_simple = lambda fm, A: arctan(A*fm) # approximate\n",
    "popt_simple, _ = curve_fit(f_simple, dietz_fm, dietz_phase)\n",
    "print(popt_simple)\n",
    "errorbar(dietz_fm/Hz, dietz_phase*180/pi, yerr=dietz_phase_std*180/pi, fmt='--or', label='Data')\n",
    "plot(dietz_fm/Hz, (180/pi)*f(dietz_fm/Hz, *popt), '-k', label='Onset model')\n",
    "plot(dietz_fm/Hz, (180/pi)*f_simple(dietz_fm/Hz, *popt_simple), '--k', label='Simplified onset model')\n",
    "xticks(dietz_fm/Hz)\n",
    "ylim(0, 180)\n",
    "ylabel('Phase (deg)')\n",
    "xlabel(r'Modulation frequency $f_m$')\n",
    "legend(loc='upper left')\n",
    "savefig('figure_onset_analytic.pdf')"
   ]
  }
 ],
 "metadata": {
  "hide_input": false,
  "jupytext": {
   "formats": "ipynb,py:light",
   "text_representation": {
    "extension": ".py",
    "format_name": "light",
    "format_version": "1.3"
   }
  },
  "kernelspec": {
   "display_name": "Python 3",
   "language": "python",
   "name": "python3"
  },
  "language_info": {
   "codemirror_mode": {
    "name": "ipython",
    "version": 3
   },
   "file_extension": ".py",
   "mimetype": "text/x-python",
   "name": "python",
   "nbconvert_exporter": "python",
   "pygments_lexer": "ipython3",
   "version": "3.7.0"
  }
 },
 "nbformat": 4,
 "nbformat_minor": 2
}
