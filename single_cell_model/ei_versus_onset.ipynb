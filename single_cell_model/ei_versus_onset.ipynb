{
 "cells": [
  {
   "cell_type": "code",
   "execution_count": null,
   "metadata": {},
   "outputs": [],
   "source": [
    "%matplotlib inline\n",
    "from brian2 import *\n",
    "import ipywidgets as ipw"
   ]
  },
  {
   "cell_type": "code",
   "execution_count": null,
   "metadata": {},
   "outputs": [],
   "source": [
    "def compare_them(tau_e_x_ms, tau_i_v_ms, fm_Hz):\n",
    "    eqs = '''\n",
    "    I = 0.5*(1-cos(2*pi*fm*t)) : 1\n",
    "    out_onset = x-v : 1\n",
    "    dv/dt = out_onset/tau_i_v : 1\n",
    "    dx/dt = (I-x)/tau_e_x : 1\n",
    "    out_ei = Re-Ri : 1\n",
    "    dRe/dt = (I-Re)/tau_e_x : 1\n",
    "    dRi/dt = (I-Ri)/tau_i_v : 1\n",
    "    tau_e_x = tau_e_x_ms*ms : second\n",
    "    tau_i_v = tau_i_v_ms*ms : second\n",
    "    fm = fm_Hz*Hz : Hz\n",
    "    '''\n",
    "    G = NeuronGroup(1, eqs)\n",
    "    M = StateMonitor(G, True, record=True)\n",
    "    run(3/(fm_Hz*Hz))\n",
    "    figure(figsize=(12, 3), dpi=75)\n",
    "    subplot(131)\n",
    "    plot(M.t/ms, M.v[0], label='v')\n",
    "    plot(M.t/ms, M.Ri[0], '--', label='Ri')\n",
    "    fill_between(M.t/ms, 0, M.I[0], color=(0.9,)*3, zorder=-2)\n",
    "    legend(loc='best')\n",
    "    subplot(132)\n",
    "    plot(M.t/ms, M.x[0], label='x')\n",
    "    plot(M.t/ms, M.Re[0], '--', label='Re')\n",
    "    fill_between(M.t/ms, 0, M.I[0], color=(0.9,)*3, zorder=-2)\n",
    "    legend(loc='best')\n",
    "    subplot(133)\n",
    "    omax = max(amax(M.out_ei[:]), amax(M.out_onset[:]))\n",
    "    plot(M.t/ms, M.out_ei[0], label='EI')\n",
    "    plot(M.t/ms, M.out_onset[0], label='Onset')\n",
    "    fill_between(M.t/ms, 0, M.I[0]*omax, color=(0.9,)*3, zorder=-2)\n",
    "    legend(loc='best')\n",
    "    tight_layout()\n",
    "    \n",
    "w = ipw.interactive(compare_them,\n",
    "        tau_e_x_ms=ipw.FloatSlider(min=0.1, max=10, step=0.1, value=0.1,\n",
    "            description=r\"Time constant E/x (ms)\"),\n",
    "        tau_i_v_ms=ipw.FloatSlider(min=0.1, max=10, step=0.1, value=1,\n",
    "            description=r\"Time constant I/v (ms)\"),\n",
    "        fm_Hz=ipw.FloatSlider(min=4, max=64, step=1, value=4,\n",
    "            description=r\"$f_m$ (Hz)\"),\n",
    "        )\n",
    "\n",
    "# Improve layout\n",
    "for child in w.children:\n",
    "    if isinstance(child, ipw.ValueWidget):\n",
    "        child.layout.width = '100%'\n",
    "        child.style = {'description_width': '30%'}\n",
    "        child.continuous_update = False\n",
    "\n",
    "display(w)"
   ]
  }
 ],
 "metadata": {
  "hide_input": false,
  "jupytext": {
   "formats": "ipynb,py:light",
   "text_representation": {
    "extension": ".py",
    "format_name": "light",
    "format_version": "1.3",
    "jupytext_version": "0.8.3"
   }
  },
  "kernelspec": {
   "display_name": "Python 2",
   "language": "python",
   "name": "python2"
  },
  "language_info": {
   "codemirror_mode": {
    "name": "ipython",
    "version": 2
   },
   "file_extension": ".py",
   "mimetype": "text/x-python",
   "name": "python",
   "nbconvert_exporter": "python",
   "pygments_lexer": "ipython2",
   "version": "2.7.15"
  }
 },
 "nbformat": 4,
 "nbformat_minor": 2
}
