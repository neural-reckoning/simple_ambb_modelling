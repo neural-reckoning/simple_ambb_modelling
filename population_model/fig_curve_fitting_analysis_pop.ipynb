{
 "cells": [
  {
   "cell_type": "code",
   "execution_count": 1,
   "metadata": {},
   "outputs": [],
   "source": [
    "%matplotlib inline\n",
    "import warnings\n",
    "warnings.filterwarnings(\"ignore\")\n",
    "from brian2 import *\n",
    "import os"
   ]
  },
  {
   "cell_type": "code",
   "execution_count": 2,
   "metadata": {},
   "outputs": [],
   "source": [
    "def max_error_random(filename,carrier,ind,cdt='random'):\n",
    "    path='./fig_param_space_pop/param_space_pop_data_files/'\n",
    "    phase=load(path+filename)\n",
    "    res_rand=np.zeros(5)\n",
    "    if cdt=='mono':\n",
    "        for i in range(5):\n",
    "            res_rand[i]=np.random.uniform(0,180,1)\n",
    "        res_rand_sort=np.sort(res_rand)\n",
    "        res_rand=res_rand_sort\n",
    "    else:\n",
    "        for i in range(5):\n",
    "            res_rand[i]=np.random.uniform(0,360,1)\n",
    "            \n",
    "    print res_rand\n",
    "    nbr_param_sets=int(1.*phase.size/phase.shape[0])\n",
    "    max_error_flat=np.zeros(nbr_param_sets)\n",
    "    phase_flat=phase.reshape((5,nbr_param_sets))\n",
    "    for i in xrange(nbr_param_sets):\n",
    "        if sum(isnan(phase_flat[:,i]))!=0:\n",
    "            max_error_flat[i]=nan\n",
    "        else:\n",
    "            max_error_flat[i]=amax(abs(phase_flat[:,i]-res_rand))\n",
    "    \n",
    "    max_error=max_error_flat.reshape((1,phase.shape[1],phase.shape[2],phase.shape[3],phase.shape[4],phase.shape[5]))\n",
    "    save(path+'max_error_random_'+str(ind)+'.npy',max_error)\n",
    "    \n",
    "    return max_error.shape"
   ]
  },
  {
   "cell_type": "code",
   "execution_count": 3,
   "metadata": {},
   "outputs": [],
   "source": [
    "def random_test(num_rep,cdt):\n",
    "    path='./fig_param_space_pop/param_space_pop_data_files/'\n",
    "    cp=0\n",
    "    b_err=np.zeros(num_rep)\n",
    "    for i in range(num_rep): \n",
    "        max_error_random('phase_500.npy',500,i,cdt)    \n",
    "        b_err[i]=nanmin(load(path+'max_error_random_'+str(i)+'.npy'))\n",
    "        os.remove(path+'max_error_random_'+str(i)+'.npy')\n",
    "        cp+=1\n",
    "        print 100.0*cp/num_rep\n",
    "        print b_err[i]\n",
    "    save(path+'rand_err_1000_'+cdt+'.npy',b_err)"
   ]
  },
  {
   "cell_type": "code",
   "execution_count": null,
   "metadata": {},
   "outputs": [],
   "source": [
    "random_test(1000,'random')\n",
    "random_test(1000,'mono')"
   ]
  },
  {
   "cell_type": "markdown",
   "metadata": {},
   "source": [
    "Cells above to generate the data. Cells below can be run without generating the data"
   ]
  },
  {
   "cell_type": "code",
   "execution_count": 4,
   "metadata": {},
   "outputs": [
    {
     "ename": "IOError",
     "evalue": "[Errno 2] No such file or directory: './param_space_pop_data_files/rand_err_1000_random.npy'",
     "output_type": "error",
     "traceback": [
      "\u001b[0;31m---------------------------------------------------------------------------\u001b[0m",
      "\u001b[0;31mIOError\u001b[0m                                   Traceback (most recent call last)",
      "\u001b[0;32m<ipython-input-4-0f739428f30a>\u001b[0m in \u001b[0;36m<module>\u001b[0;34m()\u001b[0m\n\u001b[1;32m      1\u001b[0m \u001b[0mpath\u001b[0m\u001b[0;34m=\u001b[0m\u001b[0;34m'./param_space_pop_data_files/'\u001b[0m\u001b[0;34m\u001b[0m\u001b[0m\n\u001b[0;32m----> 2\u001b[0;31m \u001b[0mres_err\u001b[0m\u001b[0;34m=\u001b[0m\u001b[0mload\u001b[0m\u001b[0;34m(\u001b[0m\u001b[0mpath\u001b[0m\u001b[0;34m+\u001b[0m\u001b[0;34m'rand_err_1000_random.npy'\u001b[0m\u001b[0;34m)\u001b[0m\u001b[0;34m\u001b[0m\u001b[0m\n\u001b[0m\u001b[1;32m      3\u001b[0m \u001b[0;32mprint\u001b[0m\u001b[0;34m(\u001b[0m\u001b[0mlen\u001b[0m\u001b[0;34m(\u001b[0m\u001b[0mres_err\u001b[0m\u001b[0;34m[\u001b[0m\u001b[0mres_err\u001b[0m\u001b[0;34m<=\u001b[0m\u001b[0;36m5.0\u001b[0m\u001b[0;34m]\u001b[0m\u001b[0;34m)\u001b[0m\u001b[0;34m)\u001b[0m\u001b[0;34m\u001b[0m\u001b[0m\n\u001b[1;32m      4\u001b[0m \u001b[0mres_mono\u001b[0m\u001b[0;34m=\u001b[0m\u001b[0mload\u001b[0m\u001b[0;34m(\u001b[0m\u001b[0mpath\u001b[0m\u001b[0;34m+\u001b[0m\u001b[0;34m'rand_err_1000_mono.npy'\u001b[0m\u001b[0;34m)\u001b[0m\u001b[0;34m\u001b[0m\u001b[0m\n\u001b[1;32m      5\u001b[0m \u001b[0;32mprint\u001b[0m\u001b[0;34m(\u001b[0m\u001b[0mlen\u001b[0m\u001b[0;34m(\u001b[0m\u001b[0mres_mono\u001b[0m\u001b[0;34m[\u001b[0m\u001b[0mres_mono\u001b[0m\u001b[0;34m<=\u001b[0m\u001b[0;36m5.0\u001b[0m\u001b[0;34m]\u001b[0m\u001b[0;34m)\u001b[0m\u001b[0;34m*\u001b[0m\u001b[0;36m100.0\u001b[0m\u001b[0;34m/\u001b[0m\u001b[0;36m1000\u001b[0m\u001b[0;34m)\u001b[0m\u001b[0;34m\u001b[0m\u001b[0m\n",
      "\u001b[0;32m/home/jylls/.local/lib/python2.7/site-packages/numpy/lib/npyio.pyc\u001b[0m in \u001b[0;36mload\u001b[0;34m(file, mmap_mode, allow_pickle, fix_imports, encoding)\u001b[0m\n\u001b[1;32m    382\u001b[0m     \u001b[0mown_fid\u001b[0m \u001b[0;34m=\u001b[0m \u001b[0mFalse\u001b[0m\u001b[0;34m\u001b[0m\u001b[0m\n\u001b[1;32m    383\u001b[0m     \u001b[0;32mif\u001b[0m \u001b[0misinstance\u001b[0m\u001b[0;34m(\u001b[0m\u001b[0mfile\u001b[0m\u001b[0;34m,\u001b[0m \u001b[0mbasestring\u001b[0m\u001b[0;34m)\u001b[0m\u001b[0;34m:\u001b[0m\u001b[0;34m\u001b[0m\u001b[0m\n\u001b[0;32m--> 384\u001b[0;31m         \u001b[0mfid\u001b[0m \u001b[0;34m=\u001b[0m \u001b[0mopen\u001b[0m\u001b[0;34m(\u001b[0m\u001b[0mfile\u001b[0m\u001b[0;34m,\u001b[0m \u001b[0;34m\"rb\"\u001b[0m\u001b[0;34m)\u001b[0m\u001b[0;34m\u001b[0m\u001b[0m\n\u001b[0m\u001b[1;32m    385\u001b[0m         \u001b[0mown_fid\u001b[0m \u001b[0;34m=\u001b[0m \u001b[0mTrue\u001b[0m\u001b[0;34m\u001b[0m\u001b[0m\n\u001b[1;32m    386\u001b[0m     \u001b[0;32melif\u001b[0m \u001b[0mis_pathlib_path\u001b[0m\u001b[0;34m(\u001b[0m\u001b[0mfile\u001b[0m\u001b[0;34m)\u001b[0m\u001b[0;34m:\u001b[0m\u001b[0;34m\u001b[0m\u001b[0m\n",
      "\u001b[0;31mIOError\u001b[0m: [Errno 2] No such file or directory: './param_space_pop_data_files/rand_err_1000_random.npy'"
     ]
    }
   ],
   "source": [
    "path='./fig_param_space_pop/param_space_pop_data_files/'\n",
    "res_err=load(path+'rand_err_1000_random.npy')\n",
    "print(len(res_err[res_err<=5.0]))\n",
    "res_mono=load(path+'rand_err_1000_mono.npy')\n",
    "print(len(res_mono[res_mono<=5.0])*100.0/1000)"
   ]
  },
  {
   "cell_type": "code",
   "execution_count": null,
   "metadata": {},
   "outputs": [],
   "source": [
    "figure(figsize=(4, 3), dpi=85)\n",
    "hist(res_mono, linspace(0, 180, 181), cumulative=True,weights=ones(len(res_mono))*100./len(res_mono),label='Random increasing IPD (<180)')\n",
    "hist(res_err, linspace(0, 180, 181), cumulative=True,weights=ones(len(res_err))*100./len(res_err),label='Random IPD')\n",
    "axvline(5, c='r', lw=2, label='Minimum error (target=data)')\n",
    "#ylim(0, 100)\n",
    "xlim(0, 180)\n",
    "xticks([0,15,30,45,90,135,180])\n",
    "legend(loc='upper right')\n",
    "xlabel('Minimum error (deg)')\n",
    "ylabel('% dist below min error')\n",
    "tight_layout()\n",
    "savefig('fig_pop_model_curve_fitting_analysis.pdf')"
   ]
  }
 ],
 "metadata": {
  "kernelspec": {
   "display_name": "Python 2",
   "language": "python",
   "name": "python2"
  },
  "language_info": {
   "codemirror_mode": {
    "name": "ipython",
    "version": 2
   },
   "file_extension": ".py",
   "mimetype": "text/x-python",
   "name": "python",
   "nbconvert_exporter": "python",
   "pygments_lexer": "ipython2",
   "version": "2.7.15"
  }
 },
 "nbformat": 4,
 "nbformat_minor": 2
}
