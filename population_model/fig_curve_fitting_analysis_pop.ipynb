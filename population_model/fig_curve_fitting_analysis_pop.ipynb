{
 "cells": [
  {
   "cell_type": "markdown",
   "metadata": {},
   "source": [
    "# Figure curve fitting analysis population model"
   ]
  },
  {
   "cell_type": "code",
   "execution_count": null,
   "metadata": {},
   "outputs": [],
   "source": [
    "%%javascript\n",
    "Jupyter.notebook.session.restart({kernel_name: 'python2'})"
   ]
  },
  {
   "cell_type": "markdown",
   "metadata": {},
   "source": [
    "After running the cell above you can go ahead and run the ones below, even if the cell above appears 'busy'"
   ]
  },
  {
   "cell_type": "code",
   "execution_count": null,
   "metadata": {},
   "outputs": [],
   "source": [
    "%matplotlib notebook\n",
    "import warnings\n",
    "warnings.filterwarnings(\"ignore\")\n",
    "from brian2 import *\n",
    "import os"
   ]
  },
  {
   "cell_type": "markdown",
   "metadata": {},
   "source": [
    "## Creating random target data and computing the corresponding max error"
   ]
  },
  {
   "cell_type": "code",
   "execution_count": null,
   "metadata": {},
   "outputs": [],
   "source": [
    "def max_error_random(filename,carrier,ind,cdt='random'):\n",
    "    path='./fig_param_space_pop/param_space_pop_data_files/'\n",
    "    phase=load(path+filename)\n",
    "    res_rand=np.zeros(5)\n",
    "    if cdt=='mono':\n",
    "        for i in range(5):\n",
    "            res_rand[i]=np.random.uniform(0,180,1)\n",
    "        res_rand_sort=np.sort(res_rand)\n",
    "        res_rand=res_rand_sort\n",
    "    else:\n",
    "        for i in range(5):\n",
    "            res_rand[i]=np.random.uniform(0,360,1)\n",
    "            \n",
    "    print res_rand\n",
    "    nbr_param_sets=int(1.*phase.size/phase.shape[0])\n",
    "    max_error_flat=np.zeros(nbr_param_sets)\n",
    "    phase_flat=phase.reshape((5,nbr_param_sets))\n",
    "    for i in xrange(nbr_param_sets):\n",
    "        if sum(isnan(phase_flat[:,i]))!=0:\n",
    "            max_error_flat[i]=nan\n",
    "        else:\n",
    "            max_error_flat[i]=amax(abs(phase_flat[:,i]-res_rand))\n",
    "    \n",
    "    max_error=max_error_flat.reshape((1,phase.shape[1],phase.shape[2],phase.shape[3],phase.shape[4],phase.shape[5]))\n",
    "    save(path+'max_error_random_'+str(ind)+'.npy',max_error)\n",
    "    \n",
    "    return max_error.shape"
   ]
  },
  {
   "cell_type": "code",
   "execution_count": null,
   "metadata": {},
   "outputs": [],
   "source": [
    "rand_err_1000_monodef random_test(num_rep,cdt):\n",
    "    path='./fig_param_space_pop/param_space_pop_data_files/'\n",
    "    cp=0\n",
    "    b_err=np.zeros(num_rep)\n",
    "    for i in range(num_rep): \n",
    "        max_error_random('phase_500.npy',500,i,cdt)    \n",
    "        b_err[i]=nanmin(load(path+'max_error_random_'+str(i)+'.npy'))\n",
    "        os.remove(path+'max_error_random_'+str(i)+'.npy')\n",
    "        cp+=1\n",
    "        print 100.0*cp/num_rep\n",
    "        print b_err[i]\n",
    "    save(path+'rand_err_1000_'+cdt+'.npy',b_err)"
   ]
  },
  {
   "cell_type": "code",
   "execution_count": null,
   "metadata": {},
   "outputs": [],
   "source": [
    "## Cell below can take a fairly long time, few hours. \n",
    "#The precomputed data can be found in the files 'rand_err_1000_random.npy' and 'rand_err_1000_mono.npy'\n",
    "\n",
    "random_test(1000,'random')\n",
    "random_test(1000,'mono')"
   ]
  },
  {
   "cell_type": "markdown",
   "metadata": {},
   "source": [
    "## The two cell belows can be run without running the cells above, it will use already computed data to plot the curve fitting analysis figure"
   ]
  },
  {
   "cell_type": "code",
   "execution_count": null,
   "metadata": {},
   "outputs": [],
   "source": [
    "path='./fig_param_space_pop/param_space_pop_data_files/'\n",
    "res_err=load(path+'rand_err_1000_random.npy')\n",
    "print('Percentage of fully random data leading to errors below 5 degrees: '+str(len(res_err[res_err<=5.0])) + '%')\n",
    "res_mono=load(path+'rand_err_1000_mono.npy')\n",
    "print('Percentage of random monotonic data (below 180 degrees) leading to errors below 5 degrees: ' + str(len(res_mono[res_mono<=5.0])*100.0/1000) +'%')"
   ]
  },
  {
   "cell_type": "code",
   "execution_count": null,
   "metadata": {},
   "outputs": [],
   "source": [
    "figure(figsize=(4, 3), dpi=85)\n",
    "hist(res_mono, linspace(0, 180, 181), cumulative=True,weights=ones(len(res_mono))*100./len(res_mono),label='Random increasing IPD (<180)')\n",
    "hist(res_err, linspace(0, 180, 181), cumulative=True,weights=ones(len(res_err))*100./len(res_err),label='Random IPD')\n",
    "axvline(5, c='r', lw=2, label='Minimum error (target=data)')\n",
    "#ylim(0, 100)\n",
    "xlim(0, 180)\n",
    "xticks([0,15,30,45,90,135,180])\n",
    "legend(loc='upper right')\n",
    "xlabel('Minimum error (deg)')\n",
    "ylabel('% dist below min error')\n",
    "tight_layout()\n",
    "#savefig('fig_pop_model_curve_fitting_analysis.pdf')"
   ]
  }
 ],
 "metadata": {
  "kernelspec": {
   "display_name": "Python 2",
   "language": "python",
   "name": "python2"
  },
  "language_info": {
   "codemirror_mode": {
    "name": "ipython",
    "version": 2
   },
   "file_extension": ".py",
   "mimetype": "text/x-python",
   "name": "python",
   "nbconvert_exporter": "python",
   "pygments_lexer": "ipython2",
   "version": "2.7.15"
  }
 },
 "nbformat": 4,
 "nbformat_minor": 2
}
