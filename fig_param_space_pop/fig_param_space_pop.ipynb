{
 "cells": [
  {
   "cell_type": "code",
   "execution_count": 7,
   "metadata": {},
   "outputs": [],
   "source": [
    "%matplotlib inline\n",
    "import warnings\n",
    "warnings.filterwarnings(\"ignore\")\n",
    "from brian2 import *\n",
    "from scipy.stats import circstd,circmean\n",
    "from scipy.ndimage.filters import gaussian_filter\n",
    "from collections import *\n",
    "from matplotlib.pyplot import *"
   ]
  },
  {
   "cell_type": "code",
   "execution_count": 8,
   "metadata": {},
   "outputs": [],
   "source": [
    "path_to_files='./param_space_pop_data_files/'\n",
    "tau_b=np.load(path_to_files+'tau_b.npy')\n",
    "sigma_k=np.load(path_to_files+'sigma_k.npy')\n",
    "gamma=np.load(path_to_files+'gamma.npy')\n",
    "k=np.load(path_to_files+'k.npy')\n",
    "m=np.load(path_to_files+'m.npy')\n",
    "\n",
    "dict_param=OrderedDict([('tau_b',tau_b),('sigma_k',sigma_k),('gamma',gamma),('k',k),('m',m)])\n",
    "latex_param_names=OrderedDict([('tau_b',r'$\\tau_{b}$'),('sigma_k',r'$\\sigma_{k}$'),('gamma',r'$\\gamma$'),('k',r'$k$'),('m',r'$m$')])"
   ]
  },
  {
   "cell_type": "code",
   "execution_count": 9,
   "metadata": {},
   "outputs": [],
   "source": [
    "def mean_over_phi_start(filename_res,carrier):\n",
    "    path='./param_space_pop_data_files/'\n",
    "    res=load(filename_res)\n",
    "    nbr_param_sets=int(res.size/(res.shape[0]*res.shape[6]))\n",
    "    res_flat=res.reshape((res.shape[0],nbr_param_sets,res.shape[6]))\n",
    "    res_flat_average=np.zeros((res.shape[0],nbr_param_sets))\n",
    "    sd_flat=np.zeros((res.shape[0],nbr_param_sets))\n",
    "    for i in range(nbr_param_sets):\n",
    "        if not np.all(res_flat[:,i,:]):\n",
    "            res_flat_average[:,i]=nan\n",
    "        else:\n",
    "            res_flat_average[:,i]=circmean(res_flat[:,i,:],high=360,axis=1)\n",
    "            sd_flat[:,i]=circstd(res_flat[:,i,:],high=360,axis=1)\n",
    "    res_average=res_flat_average.reshape((res.shape[0],res.shape[1],res.shape[2],res.shape[3],res.shape[4],res.shape[5]))\n",
    "    sd_average=sd_flat.reshape((res.shape[0],res.shape[1],res.shape[2],res.shape[3],res.shape[4],res.shape[5]))\n",
    "    save(path+'phase_'+str(carrier)+'.npy',res_average)\n",
    "    save(path+'sd_'+str(carrier)+'.npy',sd_average)"
   ]
  },
  {
   "cell_type": "code",
   "execution_count": 13,
   "metadata": {},
   "outputs": [],
   "source": [
    "def max_error(filename_phase,carrier):\n",
    "    path='./param_space_pop_data_files/'\n",
    "    if carrier==200:\n",
    "        phase_data=np.array([180,180,180,180,180])\n",
    "    else:\n",
    "        phase_data=np.array([37, 40, 62, 83, 115])\n",
    "    phase=load(filename_phase)\n",
    "    nbr_param_sets=int(phase.size/phase.shape[0])\n",
    "    phase_flat=phase.reshape((phase.shape[0],nbr_param_sets))\n",
    "    \n",
    "    max_error_flat=np.zeros(nbr_param_sets)\n",
    "    cp_nan=0\n",
    "    for i in range(nbr_param_sets) :\n",
    "        if sum(isnan(phase_flat[:,i]))!=0:\n",
    "            max_error_flat[i]=nan\n",
    "            cp_nan+=1\n",
    "        else:\n",
    "            max_error_flat[i]=amax(abs(phase_flat[:,i]-phase_data))\n",
    "    max_error=max_error_flat.reshape((1,phase.shape[1],phase.shape[2],phase.shape[3],phase.shape[4],phase.shape[5]))\n",
    "\n",
    "    save(path+'max_error_'+str(carrier)+'.npy',max_error)\n",
    "    save(path+'nan_counter_'+str(carrier)+'.npy',cp_nan)"
   ]
  },
  {
   "cell_type": "code",
   "execution_count": 14,
   "metadata": {},
   "outputs": [],
   "source": [
    "def preproc(filename_res_500):\n",
    "    path='./param_space_pop_data_files/'\n",
    "    mean_over_phi_start(path+filename_res_500,500)\n",
    "    max_error(path+'phase_500.npy',500)"
   ]
  },
  {
   "cell_type": "code",
   "execution_count": 15,
   "metadata": {},
   "outputs": [],
   "source": [
    "preproc('ipd_500.npy')"
   ]
  },
  {
   "cell_type": "code",
   "execution_count": 16,
   "metadata": {},
   "outputs": [],
   "source": [
    "def max_error(filename_phase,carrier):\n",
    "    path='./param_space_pop_data_files/'\n",
    "    if carrier==200:\n",
    "        phase_data=np.array([180,180,180,180,180])\n",
    "    else:\n",
    "        phase_data=np.array([37, 40, 62, 83, 115])\n",
    "    phase=load(filename_phase)\n",
    "    nbr_param_sets=int(phase.size/phase.shape[0])\n",
    "    phase_flat=phase.reshape((phase.shape[0],nbr_param_sets))\n",
    "    \n",
    "    max_error_flat=np.zeros(nbr_param_sets)\n",
    "    cp_nan=0\n",
    "    for i in range(nbr_param_sets) :\n",
    "        if sum(isnan(phase_flat[:,i]))!=0:\n",
    "            max_error_flat[i]=nan\n",
    "            cp_nan+=1\n",
    "        else:\n",
    "            max_error_flat[i]=amax(abs(phase_flat[:,i]-phase_data))\n",
    "    max_error=max_error_flat.reshape((1,phase.shape[1],phase.shape[2],phase.shape[3],phase.shape[4],phase.shape[5]))\n",
    "\n",
    "    save(path+'max_error_'+str(carrier)+'.npy',max_error)\n",
    "    save(path+'nan_counter_'+str(carrier)+'.npy',cp_nan)"
   ]
  },
  {
   "cell_type": "code",
   "execution_count": 17,
   "metadata": {},
   "outputs": [],
   "source": [
    "def best_sols(filename_max_err,filename_nan,dict_param,max_error_thresh=30):\n",
    "    max_err_arr=np.squeeze(np.load(path_to_files+filename_max_err))\n",
    "    num_fm=5\n",
    "    num_param=len(dict_param)\n",
    "    b_sols=np.argwhere(max_err_arr<=max_error_thresh)\n",
    "    b_values=np.zeros((b_sols.shape[0],num_param))\n",
    "    for k in xrange(num_param):\n",
    "        b_values[:,k]=dict_param[dict_param.keys()[k]][b_sols[:,k]]\n",
    "    return b_values,b_sols "
   ]
  },
  {
   "cell_type": "code",
   "execution_count": 18,
   "metadata": {},
   "outputs": [],
   "source": [
    "def hist_production(filename_max_err,filename_nan):\n",
    "    color='#ff7f0e'\n",
    "    gs=GridSpec(27,20)\n",
    "    gs.update(wspace=1.5,hspace=1.5)\n",
    "    ftsize=14\n",
    "    max_err_arr=np.load(path_to_files+filename_max_err)\n",
    "    max_err_flat=np.reshape(max_err_arr,(max_err_arr.size))    \n",
    "    max_err_masked= max_err_flat[np.logical_not(np.isnan(max_err_flat))]\n",
    "    nan_counter=np.load(path_to_files+filename_nan)\n",
    "    m_car=np.mean(max_err_masked)\n",
    "    sd_car=np.std(max_err_masked)\n",
    "    \n",
    "    subplot(gs[6:11,15:20])\n",
    "    y,_,_=hist(max_err_masked,weights=100.0/(max_err_masked.size)*np.ones((max_err_masked.size)),edgecolor=None,lw=0,bins=20,color=color,alpha=0.7)\n",
    "    plot([m_car,m_car],[0,max(y)],ls='--',lw=2,label='Mean',alpha=0.7)\n",
    "    ylabel('% of the data',fontsize=ftsize)\n",
    "    xlabel('Max error (deg)',fontsize=ftsize)\n",
    "    xticks(fontsize=ftsize)\n",
    "    yticks(fontsize=ftsize)\n",
    "    legend(bbox_to_anchor=[1.1,1.025])   \n"
   ]
  },
  {
   "cell_type": "code",
   "execution_count": 22,
   "metadata": {},
   "outputs": [],
   "source": [
    "def phase_cuve_plots(filename_phase,filename_sd,filename_max_err,filename_nan):\n",
    "    gs=GridSpec(27,20)\n",
    "    gs.update(wspace=1.5, hspace=1.5)\n",
    "    ftsize=14\n",
    "    color='#ff7f0e'\n",
    "    phase=np.load(path_to_files+filename_phase)\n",
    "    sd=np.load(path_to_files+filename_sd)\n",
    "\n",
    "    b_values,b_sols=best_sols(filename_max_err,filename_nan,dict_param,360)\n",
    "    b_values_best,b_sols_best=best_sols(filename_max_err,filename_nan,dict_param,np.nanmin(np.load(path_to_files+filename_max_err)))\n",
    "\n",
    "    fm=[4,8,16,32,64]\n",
    "    exp_data=[37, 40, 62, 83, 115]\n",
    "    std_exp_data=[46, 29, 29, 31,37]\n",
    "    subplot(gs[0:5,15:20])\n",
    "    for i in xrange(b_sols.shape[0]):\n",
    "        indices=(slice(None),int(b_sols[i,0]),int(b_sols[i,1]),int(b_sols[i,2]),int(b_sols[i,3]),int(b_sols[i,4]))\n",
    "        if i%50==0:           \n",
    "            plot(fm,phase[indices],lw=0.5,alpha=0.2,label='Model (all)',color=color)\n",
    "\n",
    "        else:\n",
    "            plot(fm,phase[indices],lw=0.5,alpha=0.2,color=color)\n",
    "\n",
    "    indices_best=(slice(None),int(b_sols_best[0,0]),int(b_sols_best[0,1]),int(b_sols_best[0,2]),int(b_sols_best[0,3]),int(b_sols_best[0,4]))\n",
    "    errorbar(fm, exp_data,std_exp_data,lw=2.5, fmt='--r', label='Data')\n",
    "    errorbar(fm,phase[indices_best],yerr=sd[indices_best],lw=2.5,marker='o',label='Model (best)',color=\"k\")\n",
    "    xlabel('Modulation frequency (Hz)',fontsize=ftsize)\n",
    "    ylabel('Extracted IPD (deg)',fontsize=ftsize)\n",
    "    xticks([4,8,16,32,64],fontsize=ftsize)\n",
    "    yticks([0,90,180,270,360],fontsize=ftsize)\n",
    "    ylim([0,360])\n",
    "    xlim([4,64])\n",
    "    grid(True)\n",
    "    legend()"
   ]
  },
  {
   "cell_type": "code",
   "execution_count": 23,
   "metadata": {},
   "outputs": [],
   "source": [
    "def param_hist(filename_max_err,filename_nan,dict_param,latex_param_names,max_thresh=30):\n",
    "    gs=GridSpec(27,20)\n",
    "    gs.update(wspace=1.5, hspace=1.5)\n",
    "    nan_counter=np.load(path_to_files+filename_nan)\n",
    "    max_thresh=30\n",
    "    b_values,b_sols=best_sols(filename_max_err,filename_nan,dict_param,max_thresh)\n",
    "    mid_param=[0.25,0.05,0.005,0,0.05]\n",
    "    initial_val=[0.125,0.05,0,0,0]\n",
    "    num_param=5\n",
    "    color='#ff7f0e'\n",
    "    for h in range(num_param):\n",
    "        if h==3:\n",
    "            unique, counts = np.unique(b_values[:,h], return_counts=True)    \n",
    "            subplot(gs[23:27,4*h:4*(h+1)])\n",
    "            title(latex_param_names[latex_param_names.keys()[h]],fontsize=20)\n",
    "            bar([1.6,3.6,7.6],[counts[0],counts[1],counts[2]],lw=0,alpha=0.5,color=color)\n",
    "            plot([np.mean(b_values[:,h]),np.mean(b_values[:,h])],[0,max(counts)],ls='--',lw=4,label='Mean',alpha=1)\n",
    "            xticks(dict_param[dict_param.keys()[h]],fontsize=8)\n",
    "            yticks([],[])\n",
    "        else:   \n",
    "            subplot(gs[23:27,4*h:4*(h+1)])\n",
    "            title(latex_param_names[latex_param_names.keys()[h]],fontsize=20)     \n",
    "            y, x, _=hist(b_values[:,h],bins=np.insert(dict_param[dict_param.keys()[h]]+mid_param[h],0,initial_val[h]),alpha=0.5,lw=0,color=color)\n",
    "            plot([np.mean(b_values[:,h]),np.mean(b_values[:,h])],[0,max(y)],ls='--',lw=4,label='Mean',alpha=1)\n",
    "            xticks(dict_param[dict_param.keys()[h]][::2],fontsize=8)\n",
    "            yticks([],[])\n"
   ]
  },
  {
   "cell_type": "code",
   "execution_count": 24,
   "metadata": {},
   "outputs": [],
   "source": [
    "def bfits_plots(filename_max_err,dict_param):\n",
    "    \n",
    "    gs=GridSpec(27,20)\n",
    "    gs.update(wspace=1.5, hspace=1.5)\n",
    "    max_err=np.squeeze(np.load(path_to_files+filename_max_err))\n",
    "    y_axis=[2,3,1,4]\n",
    "    x_axis=[0,2,3,1]\n",
    "  \n",
    "    ax=[]\n",
    "    ftsize=14\n",
    "    for i in xrange(4):\n",
    "        for j in xrange(i+1):\n",
    "            b_fit=np.zeros((dict_param[dict_param.keys()[y_axis[i]]].shape[0],dict_param[dict_param.keys()[x_axis[j]]].shape[0]))\n",
    "            for k in xrange(dict_param[dict_param.keys()[y_axis[i]]].shape[0]):\n",
    "                for l in xrange(dict_param[dict_param.keys()[x_axis[j]]].shape[0]):\n",
    "                    indices=[slice(None),slice(None),slice(None),slice(None),slice(None)]\n",
    "                    indices[y_axis[i]]=k\n",
    "                    indices[x_axis[j]]=l\n",
    "                    b_fit[k,l]=np.nanmin(max_err[tuple(indices)])\n",
    "            ax.append(subplot(gs[5*i:5*(i+1),5*j:5*(j+1)]))\n",
    "            x_extent_min=dict_param[dict_param.keys()[x_axis[j]]][0]\n",
    "            x_extent_max=dict_param[dict_param.keys()[x_axis[j]]][-1]\n",
    "            y_extent_min=dict_param[dict_param.keys()[y_axis[i]]][0]\n",
    "            y_extent_max=dict_param[dict_param.keys()[y_axis[i]]][-1]                                              \n",
    "            error_blur = gaussian_filter(b_fit, 1, mode='nearest')\n",
    "            cs = contour(error_blur, origin='lower', aspect='auto',levels=[15, 30, 45],linewidths=2.5, colors='w',extent=[x_extent_min,x_extent_max,y_extent_min,y_extent_max])\n",
    "            for level, linecol in zip(cs.levels, cs.collections):\n",
    "                if level==15:\n",
    "                    linecol.set_linestyle('solid')\n",
    "                if level==30:\n",
    "                    linecol.set_linestyle('dashed')\n",
    "                if level==45:\n",
    "                    linecol.set_linestyle('dotted')\n",
    "    \n",
    "            clabel(cs, colors='w', inline=True,fmt='%d')\n",
    "            im=imshow(b_fit,origin='lower left',interpolation='nearest', aspect='auto',cmap='viridis',vmin=0,vmax=180,extent=[x_extent_min,x_extent_max,y_extent_min,y_extent_max])\n",
    "            #if i==0 and j==0:\n",
    "            #    text(0,0.18,'A',fontsize=28) \n",
    "            if 5*j==0:\n",
    "                ylabel(latex_param_names.values()[y_axis[i]],fontsize=ftsize)\n",
    "                yticks([y_extent_min,y_extent_max],fontsize=ftsize)\n",
    "            else:\n",
    "                yticks([])\n",
    "            if 5*(i+1)==20:\n",
    "                xlabel(latex_param_names.values()[x_axis[j]],fontsize=ftsize)\n",
    "                xticks([x_extent_min,x_extent_max],fontsize=ftsize)\n",
    "            else:\n",
    "                xticks([])\n",
    "    return im\n",
    "   \n",
    "    "
   ]
  },
  {
   "cell_type": "code",
   "execution_count": 25,
   "metadata": {},
   "outputs": [],
   "source": [
    "def figure_param_space_pop(filename_phase,filename_sd,filename_max_err,filename_nan,dict_param):\n",
    "    \n",
    "    fig=figure(figsize=(15,18))\n",
    "  \n",
    "    im=bfits_plots(filename_max_err,dict_param)\n",
    "    cbar_ax = fig.add_axes([0.125, 0.27, 0.775, 0.02])\n",
    "    colorbar(im, cbar_ax,orientation='horizontal')\n",
    "    \n",
    "    ###################################################################################\n",
    "\n",
    "    param_hist(filename_max_err,filename_nan,dict_param,latex_param_names,max_thresh=30)\n",
    "    \n",
    "    ####################################################################################\n",
    "    \n",
    "    phase_cuve_plots(filename_phase,filename_sd,filename_max_err,filename_nan)\n",
    "    \n",
    "    ####################################################################################\n",
    "    hist_production(filename_max_err,filename_nan)\n",
    "    \n",
    "    fig.savefig('fig_param_space_m.pdf',bbox_inches=\"tight\")"
   ]
  },
  {
   "cell_type": "code",
   "execution_count": 26,
   "metadata": {
    "scrolled": false
   },
   "outputs": [
    {
     "ename": "NameError",
     "evalue": "name 'xrange' is not defined",
     "output_type": "error",
     "traceback": [
      "\u001b[0;31m---------------------------------------------------------------------------\u001b[0m",
      "\u001b[0;31mNameError\u001b[0m                                 Traceback (most recent call last)",
      "\u001b[0;32m<ipython-input-26-b1838e049417>\u001b[0m in \u001b[0;36m<module>\u001b[0;34m\u001b[0m\n\u001b[0;32m----> 1\u001b[0;31m \u001b[0mfigure_param_space_pop\u001b[0m\u001b[0;34m(\u001b[0m\u001b[0;34m'phase_500.npy'\u001b[0m\u001b[0;34m,\u001b[0m\u001b[0;34m'sd_500.npy'\u001b[0m\u001b[0;34m,\u001b[0m\u001b[0;34m'max_error_500.npy'\u001b[0m\u001b[0;34m,\u001b[0m\u001b[0;34m'nan_counter_500.npy'\u001b[0m\u001b[0;34m,\u001b[0m\u001b[0mdict_param\u001b[0m\u001b[0;34m)\u001b[0m\u001b[0;34m\u001b[0m\u001b[0m\n\u001b[0m",
      "\u001b[0;32m<ipython-input-25-27c761e64e5a>\u001b[0m in \u001b[0;36mfigure_param_space_pop\u001b[0;34m(filename_phase, filename_sd, filename_max_err, filename_nan, dict_param)\u001b[0m\n\u001b[1;32m      3\u001b[0m     \u001b[0mfig\u001b[0m\u001b[0;34m=\u001b[0m\u001b[0mfigure\u001b[0m\u001b[0;34m(\u001b[0m\u001b[0mfigsize\u001b[0m\u001b[0;34m=\u001b[0m\u001b[0;34m(\u001b[0m\u001b[0;36m15\u001b[0m\u001b[0;34m,\u001b[0m\u001b[0;36m18\u001b[0m\u001b[0;34m)\u001b[0m\u001b[0;34m)\u001b[0m\u001b[0;34m\u001b[0m\u001b[0m\n\u001b[1;32m      4\u001b[0m \u001b[0;34m\u001b[0m\u001b[0m\n\u001b[0;32m----> 5\u001b[0;31m     \u001b[0mim\u001b[0m\u001b[0;34m=\u001b[0m\u001b[0mbfits_plots\u001b[0m\u001b[0;34m(\u001b[0m\u001b[0mfilename_max_err\u001b[0m\u001b[0;34m,\u001b[0m\u001b[0mdict_param\u001b[0m\u001b[0;34m)\u001b[0m\u001b[0;34m\u001b[0m\u001b[0m\n\u001b[0m\u001b[1;32m      6\u001b[0m     \u001b[0mcbar_ax\u001b[0m \u001b[0;34m=\u001b[0m \u001b[0mfig\u001b[0m\u001b[0;34m.\u001b[0m\u001b[0madd_axes\u001b[0m\u001b[0;34m(\u001b[0m\u001b[0;34m[\u001b[0m\u001b[0;36m0.125\u001b[0m\u001b[0;34m,\u001b[0m \u001b[0;36m0.27\u001b[0m\u001b[0;34m,\u001b[0m \u001b[0;36m0.775\u001b[0m\u001b[0;34m,\u001b[0m \u001b[0;36m0.02\u001b[0m\u001b[0;34m]\u001b[0m\u001b[0;34m)\u001b[0m\u001b[0;34m\u001b[0m\u001b[0m\n\u001b[1;32m      7\u001b[0m     \u001b[0mcolorbar\u001b[0m\u001b[0;34m(\u001b[0m\u001b[0mim\u001b[0m\u001b[0;34m,\u001b[0m \u001b[0mcbar_ax\u001b[0m\u001b[0;34m,\u001b[0m\u001b[0morientation\u001b[0m\u001b[0;34m=\u001b[0m\u001b[0;34m'horizontal'\u001b[0m\u001b[0;34m)\u001b[0m\u001b[0;34m\u001b[0m\u001b[0m\n",
      "\u001b[0;32m<ipython-input-24-cd1ed327c609>\u001b[0m in \u001b[0;36mbfits_plots\u001b[0;34m(filename_max_err, dict_param)\u001b[0m\n\u001b[1;32m      9\u001b[0m     \u001b[0max\u001b[0m\u001b[0;34m=\u001b[0m\u001b[0;34m[\u001b[0m\u001b[0;34m]\u001b[0m\u001b[0;34m\u001b[0m\u001b[0m\n\u001b[1;32m     10\u001b[0m     \u001b[0mftsize\u001b[0m\u001b[0;34m=\u001b[0m\u001b[0;36m14\u001b[0m\u001b[0;34m\u001b[0m\u001b[0m\n\u001b[0;32m---> 11\u001b[0;31m     \u001b[0;32mfor\u001b[0m \u001b[0mi\u001b[0m \u001b[0;32min\u001b[0m \u001b[0mxrange\u001b[0m\u001b[0;34m(\u001b[0m\u001b[0;36m4\u001b[0m\u001b[0;34m)\u001b[0m\u001b[0;34m:\u001b[0m\u001b[0;34m\u001b[0m\u001b[0m\n\u001b[0m\u001b[1;32m     12\u001b[0m         \u001b[0;32mfor\u001b[0m \u001b[0mj\u001b[0m \u001b[0;32min\u001b[0m \u001b[0mxrange\u001b[0m\u001b[0;34m(\u001b[0m\u001b[0mi\u001b[0m\u001b[0;34m+\u001b[0m\u001b[0;36m1\u001b[0m\u001b[0;34m)\u001b[0m\u001b[0;34m:\u001b[0m\u001b[0;34m\u001b[0m\u001b[0m\n\u001b[1;32m     13\u001b[0m             \u001b[0mb_fit\u001b[0m\u001b[0;34m=\u001b[0m\u001b[0mnp\u001b[0m\u001b[0;34m.\u001b[0m\u001b[0mzeros\u001b[0m\u001b[0;34m(\u001b[0m\u001b[0;34m(\u001b[0m\u001b[0mdict_param\u001b[0m\u001b[0;34m[\u001b[0m\u001b[0mdict_param\u001b[0m\u001b[0;34m.\u001b[0m\u001b[0mkeys\u001b[0m\u001b[0;34m(\u001b[0m\u001b[0;34m)\u001b[0m\u001b[0;34m[\u001b[0m\u001b[0my_axis\u001b[0m\u001b[0;34m[\u001b[0m\u001b[0mi\u001b[0m\u001b[0;34m]\u001b[0m\u001b[0;34m]\u001b[0m\u001b[0;34m]\u001b[0m\u001b[0;34m.\u001b[0m\u001b[0mshape\u001b[0m\u001b[0;34m[\u001b[0m\u001b[0;36m0\u001b[0m\u001b[0;34m]\u001b[0m\u001b[0;34m,\u001b[0m\u001b[0mdict_param\u001b[0m\u001b[0;34m[\u001b[0m\u001b[0mdict_param\u001b[0m\u001b[0;34m.\u001b[0m\u001b[0mkeys\u001b[0m\u001b[0;34m(\u001b[0m\u001b[0;34m)\u001b[0m\u001b[0;34m[\u001b[0m\u001b[0mx_axis\u001b[0m\u001b[0;34m[\u001b[0m\u001b[0mj\u001b[0m\u001b[0;34m]\u001b[0m\u001b[0;34m]\u001b[0m\u001b[0;34m]\u001b[0m\u001b[0;34m.\u001b[0m\u001b[0mshape\u001b[0m\u001b[0;34m[\u001b[0m\u001b[0;36m0\u001b[0m\u001b[0;34m]\u001b[0m\u001b[0;34m)\u001b[0m\u001b[0;34m)\u001b[0m\u001b[0;34m\u001b[0m\u001b[0m\n",
      "\u001b[0;31mNameError\u001b[0m: name 'xrange' is not defined"
     ]
    },
    {
     "data": {
      "text/plain": [
       "<Figure size 1080x1296 with 0 Axes>"
      ]
     },
     "metadata": {},
     "output_type": "display_data"
    }
   ],
   "source": [
    "figure_param_space_pop('phase_500.npy','sd_500.npy','max_error_500.npy','nan_counter_500.npy',dict_param)"
   ]
  },
  {
   "cell_type": "code",
   "execution_count": null,
   "metadata": {
    "collapsed": true
   },
   "outputs": [],
   "source": []
  }
 ],
 "metadata": {
  "kernelspec": {
   "display_name": "Python 3",
   "language": "python",
   "name": "python3"
  },
  "language_info": {
   "codemirror_mode": {
    "name": "ipython",
    "version": 3
   },
   "file_extension": ".py",
   "mimetype": "text/x-python",
   "name": "python",
   "nbconvert_exporter": "python",
   "pygments_lexer": "ipython3",
   "version": "3.7.0"
  }
 },
 "nbformat": 4,
 "nbformat_minor": 2
}
