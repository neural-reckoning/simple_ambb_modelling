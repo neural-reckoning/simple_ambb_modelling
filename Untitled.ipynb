{
 "cells": [
  {
   "cell_type": "code",
   "execution_count": 1,
   "metadata": {},
   "outputs": [],
   "source": [
    "%matplotlib inline\n",
    "import warnings\n",
    "warnings.filterwarnings(\"ignore\")\n",
    "from brian2 import *\n",
    "import os"
   ]
  },
  {
   "cell_type": "code",
   "execution_count": 8,
   "metadata": {},
   "outputs": [],
   "source": [
    "def max_error_random(filename,carrier,ind,condition):\n",
    "    res_data=np.zeros(5)\n",
    "    if condition==mono:\n",
    "        for i in range(5):\n",
    "            res_data[i]=np.random.uniform(0,180,1)\n",
    "            res_data_sort=np.sort(res_data)\n",
    "    else:\n",
    "        for i in xrange(5):\n",
    "            res_data[i]=np.random.uniform(0,360,1)\n",
    "    \n",
    "    res=load(filename)\n",
    "    nbr_param_sets=res.shape[1]*res.shape[2]*res.shape[3]*res.shape[4]*res.shape[5]\n",
    "    max_error_flat=np.zeros(nbr_param_sets)\n",
    "    res_flat=res.reshape((5,nbr_param_sets))\n",
    "    for i in xrange(nbr_param_sets) :\n",
    "        if sum(isnan(res_flat[:,i]))!=0:\n",
    "            max_error_flat[i]=nan\n",
    "        else:\n",
    "            max_error_flat[i]=amax(abs(res_flat[:,i]-res_data))\n",
    "    max_error=max_error_flat.reshape((1,res.shape[1],res.shape[2],res.shape[3],res.shape[4],res.shape[5]))\n",
    "    \n",
    "    save('max_error_random'+str(carrier)+'_'+str(ind)+'.npy',max_error)\n",
    "    return max_error.shape"
   ]
  },
  {
   "cell_type": "code",
   "execution_count": 9,
   "metadata": {},
   "outputs": [],
   "source": [
    "def max_error_carrier_combined_random_bipd(file_max_error_500,file_max_error_200,ind,err_weight=1.0/3):\n",
    "    num_freq=2\n",
    "    max_err_200=load(file_max_error_200)\n",
    "    max_err_500=load(file_max_error_500)\n",
    "    max_err_carrier_comb_all=np.zeros((max_err_500.shape[1],max_err_500.shape[2],max_err_500.shape[3],max_err_500.shape[4],max_err_500.shape[5]))\n",
    "   \n",
    "    cp=0\n",
    "    for i in xrange(max_err_500.shape[1]):\n",
    "        for j in xrange(max_err_500.shape[2]):\n",
    "            for k in xrange(max_err_500.shape[3]):\n",
    "                for l in xrange(max_err_500.shape[4]):\n",
    "                    for m in xrange(max_err_500.shape[5]):\n",
    "                        if isnan(max_err_200[0,i,j,k,l,m]) or isnan(max_err_500[0,i,j,k,l,m]):\n",
    "                            max_err_carrier_comb_all[i,j,k,l,m]=nan\n",
    "                            cp+=1\n",
    "                        else:\n",
    "                            max_err_carrier_comb_all[i,j,k,l,m]=amax([max_err_500[0,i,j,k,l,m],max_err_200[0,i,j,k,l,m]*1.0*err_weight])\n",
    "\n",
    " \n",
    "    save('max_error_combined_random_bipd'+str(ind)+'.npy',max_err_carrier_comb_all) "
   ]
  },
  {
   "cell_type": "code",
   "execution_count": 7,
   "metadata": {},
   "outputs": [],
   "source": [
    "def random_test(num_rep,condition):\n",
    "    cp=0\n",
    "    b_err=np.zeros(num_rep)\n",
    "    for i in xrange(num_rep): \n",
    "        max_error_random('phase_200.npy',200,i,condition)\n",
    "        max_error_random('phase_500.npy',500,i,condition)    \n",
    "        max_error_carrier_combined_random_bipd('max_error_random500_'+str(i)+'.npy','max_error_random200_'+str(i)+'.npy',i,err_weight=1.0/3)\n",
    "        b_err[i]=nanmin(load('max_error_combined_random_bipd'+str(i)+'.npy'))\n",
    "        os.remove('max_error_combined_random_bipd'+str(i)+'.npy')\n",
    "        os.remove('max_error_random500_'+str(i)+'.npy')\n",
    "        os.remove('max_error_random200_'+str(i)+'.npy')\n",
    "        cp+=1\n",
    "        print 100.0*cp/num_rep\n",
    "        print b_err[i]\n",
    "    return b_err"
   ]
  },
  {
   "cell_type": "code",
   "execution_count": null,
   "metadata": {},
   "outputs": [],
   "source": [
    "rand_err=random_test(1000)\n"
   ]
  }
 ],
 "metadata": {
  "kernelspec": {
   "display_name": "Python 2",
   "language": "python",
   "name": "python2"
  },
  "language_info": {
   "codemirror_mode": {
    "name": "ipython",
    "version": 2
   },
   "file_extension": ".py",
   "mimetype": "text/x-python",
   "name": "python",
   "nbconvert_exporter": "python",
   "pygments_lexer": "ipython2",
   "version": "2.7.15"
  }
 },
 "nbformat": 4,
 "nbformat_minor": 2
}
